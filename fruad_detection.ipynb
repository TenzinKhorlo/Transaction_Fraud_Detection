{
 "cells": [
  {
   "cell_type": "code",
   "execution_count": 36,
   "id": "2bc9bd47",
   "metadata": {},
   "outputs": [],
   "source": [
    "import numpy as np\n",
    "import pandas as pd\n",
    "from sklearn.model_selection import train_test_split\n",
    "from sklearn.linear_model import LogisticRegression\n",
    "from sklearn.metrics import accuracy_score\n",
    "from sklearn.metrics import classification_report\n",
    "from sklearn.metrics import roc_auc_score"
   ]
  },
  {
   "cell_type": "code",
   "execution_count": 37,
   "id": "6f3f9c02",
   "metadata": {},
   "outputs": [],
   "source": [
    "data = pd.read_csv('transactions_train.csv')"
   ]
  },
  {
   "cell_type": "code",
   "execution_count": 38,
   "id": "06b086ad",
   "metadata": {},
   "outputs": [
    {
     "name": "stdout",
     "output_type": "stream",
     "text": [
      "Unnamed: 0        0\n",
      "step              0\n",
      "amount            0\n",
      "oldbalanceOrig    0\n",
      "newbalanceOrig    0\n",
      "oldbalanceDest    0\n",
      "newbalanceDest    0\n",
      "isFraud           0\n",
      "dtype: int64\n",
      "(No. of rows, No. of columns) --> (15434, 8)\n"
     ]
    },
    {
     "data": {
      "text/html": [
       "<div>\n",
       "<style scoped>\n",
       "    .dataframe tbody tr th:only-of-type {\n",
       "        vertical-align: middle;\n",
       "    }\n",
       "\n",
       "    .dataframe tbody tr th {\n",
       "        vertical-align: top;\n",
       "    }\n",
       "\n",
       "    .dataframe thead th {\n",
       "        text-align: right;\n",
       "    }\n",
       "</style>\n",
       "<table border=\"1\" class=\"dataframe\">\n",
       "  <thead>\n",
       "    <tr style=\"text-align: right;\">\n",
       "      <th></th>\n",
       "      <th>Unnamed: 0</th>\n",
       "      <th>step</th>\n",
       "      <th>amount</th>\n",
       "      <th>oldbalanceOrig</th>\n",
       "      <th>newbalanceOrig</th>\n",
       "      <th>oldbalanceDest</th>\n",
       "      <th>newbalanceDest</th>\n",
       "      <th>isFraud</th>\n",
       "    </tr>\n",
       "  </thead>\n",
       "  <tbody>\n",
       "    <tr>\n",
       "      <th>0</th>\n",
       "      <td>0</td>\n",
       "      <td>373</td>\n",
       "      <td>120744.93</td>\n",
       "      <td>68997.00</td>\n",
       "      <td>0.00</td>\n",
       "      <td>0.00</td>\n",
       "      <td>120744.93</td>\n",
       "      <td>0</td>\n",
       "    </tr>\n",
       "    <tr>\n",
       "      <th>1</th>\n",
       "      <td>1</td>\n",
       "      <td>93</td>\n",
       "      <td>67903.23</td>\n",
       "      <td>634.00</td>\n",
       "      <td>68537.23</td>\n",
       "      <td>3528462.96</td>\n",
       "      <td>3460559.73</td>\n",
       "      <td>0</td>\n",
       "    </tr>\n",
       "    <tr>\n",
       "      <th>2</th>\n",
       "      <td>2</td>\n",
       "      <td>96</td>\n",
       "      <td>11196.39</td>\n",
       "      <td>1355806.66</td>\n",
       "      <td>1367003.05</td>\n",
       "      <td>493018.52</td>\n",
       "      <td>481822.13</td>\n",
       "      <td>0</td>\n",
       "    </tr>\n",
       "    <tr>\n",
       "      <th>3</th>\n",
       "      <td>3</td>\n",
       "      <td>354</td>\n",
       "      <td>1665.34</td>\n",
       "      <td>171563.59</td>\n",
       "      <td>169898.25</td>\n",
       "      <td>0.00</td>\n",
       "      <td>0.00</td>\n",
       "      <td>0</td>\n",
       "    </tr>\n",
       "    <tr>\n",
       "      <th>4</th>\n",
       "      <td>4</td>\n",
       "      <td>282</td>\n",
       "      <td>74813.74</td>\n",
       "      <td>0.00</td>\n",
       "      <td>0.00</td>\n",
       "      <td>1112970.42</td>\n",
       "      <td>1187784.16</td>\n",
       "      <td>0</td>\n",
       "    </tr>\n",
       "  </tbody>\n",
       "</table>\n",
       "</div>"
      ],
      "text/plain": [
       "   Unnamed: 0  step     amount  oldbalanceOrig  newbalanceOrig  \\\n",
       "0           0   373  120744.93        68997.00            0.00   \n",
       "1           1    93   67903.23          634.00        68537.23   \n",
       "2           2    96   11196.39      1355806.66      1367003.05   \n",
       "3           3   354    1665.34       171563.59       169898.25   \n",
       "4           4   282   74813.74            0.00            0.00   \n",
       "\n",
       "   oldbalanceDest  newbalanceDest  isFraud  \n",
       "0            0.00       120744.93        0  \n",
       "1      3528462.96      3460559.73        0  \n",
       "2       493018.52       481822.13        0  \n",
       "3            0.00            0.00        0  \n",
       "4      1112970.42      1187784.16        0  "
      ]
     },
     "execution_count": 38,
     "metadata": {},
     "output_type": "execute_result"
    }
   ],
   "source": [
    "# Removing the null values\n",
    "df = data.dropna()\n",
    "\n",
    "# Checking for null values\n",
    "print(df.isnull().sum())\n",
    "\n",
    "# Shows the shape of the dataset\n",
    "print(\"(No. of rows, No. of columns) -->\", df.shape)\n",
    "\n",
    "# Runs the first five rows of the dataset\n",
    "df.head()"
   ]
  },
  {
   "cell_type": "code",
   "execution_count": 39,
   "id": "7736dc89",
   "metadata": {
    "scrolled": false
   },
   "outputs": [
    {
     "name": "stdout",
     "output_type": "stream",
     "text": [
      "1    7717\n",
      "0    7717\n",
      "Name: isFraud, dtype: int64 \n",
      "\n",
      "1    0.5\n",
      "0    0.5\n",
      "Name: isFraud, dtype: float64\n"
     ]
    }
   ],
   "source": [
    "# Check the distribution of data\n",
    "print (df['isFraud'].value_counts(),'\\n')\n",
    "print(pd.value_counts(df.isFraud, normalize=True))"
   ]
  },
  {
   "cell_type": "code",
   "execution_count": 40,
   "id": "aeff412a",
   "metadata": {},
   "outputs": [],
   "source": [
    "df\n",
    "X = df.drop(['Unnamed: 0','isFraud'],axis=1)\n",
    "Y=df['isFraud']"
   ]
  },
  {
   "cell_type": "code",
   "execution_count": 41,
   "id": "74fa1376",
   "metadata": {},
   "outputs": [],
   "source": [
    "# Defining the training, validation, & test split\n",
    "def train_validation_test_split(\n",
    "    X, Y, train_size=0.8, val_size=0.1, test_size=0.1, \n",
    "    random_state=None, shuffle=True):\n",
    "  \n",
    "    assert int(train_size + val_size + test_size + 1e-7) == 1\n",
    "    \n",
    "    X_train_val, X_test, Y_train_val, Y_test = train_test_split(\n",
    "        X, Y, test_size=test_size, random_state=random_state, shuffle=shuffle)\n",
    "    \n",
    "    X_train, X_val, Y_train, Y_val = train_test_split(\n",
    "        X_train_val, Y_train_val,    test_size=val_size/(train_size+val_size), \n",
    "        random_state=random_state, shuffle=shuffle)\n",
    "    \n",
    "    return X_train, X_val, X_test, Y_train, Y_val, Y_test"
   ]
  },
  {
   "cell_type": "code",
   "execution_count": 42,
   "id": "764a2f43",
   "metadata": {},
   "outputs": [
    {
     "data": {
      "text/plain": [
       "LogisticRegression()"
      ]
     },
     "execution_count": 42,
     "metadata": {},
     "output_type": "execute_result"
    }
   ],
   "source": [
    "X_train, X_val, X_test, Y_train, Y_val, Y_test = train_validation_test_split(\n",
    "    X, Y, train_size=0.8, val_size=0.1, test_size=0.1, random_state=1)\n",
    "model = LogisticRegression()\n",
    "model.fit(X_train, Y_train)"
   ]
  },
  {
   "cell_type": "code",
   "execution_count": 43,
   "id": "64f228a9",
   "metadata": {},
   "outputs": [
    {
     "name": "stdout",
     "output_type": "stream",
     "text": [
      "              precision    recall  f1-score   support\n",
      "\n",
      "           0       0.91      0.90      0.91       775\n",
      "           1       0.90      0.91      0.91       769\n",
      "\n",
      "    accuracy                           0.91      1544\n",
      "   macro avg       0.91      0.91      0.91      1544\n",
      "weighted avg       0.91      0.91      0.91      1544\n",
      "\n",
      "Validation Dataset: \n",
      "\n",
      "Accuracy score:  0.9060880829015544\n",
      "ROC AUC Score:  0.9060992491295775\n"
     ]
    }
   ],
   "source": [
    "Y_pred = model.predict(X_val)\n",
    "print(classification_report(Y_val, Y_pred))\n",
    "print('Validation Dataset:','\\n')\n",
    "print('Accuracy score: ', accuracy_score(Y_val, Y_pred))\n",
    "print('ROC AUC Score: ', roc_auc_score(Y_val, Y_pred))"
   ]
  },
  {
   "cell_type": "code",
   "execution_count": 44,
   "id": "dd45ed69",
   "metadata": {},
   "outputs": [
    {
     "name": "stdout",
     "output_type": "stream",
     "text": [
      "              precision    recall  f1-score   support\n",
      "\n",
      "           0       0.89      0.90      0.90       770\n",
      "           1       0.90      0.89      0.90       774\n",
      "\n",
      "    accuracy                           0.90      1544\n",
      "   macro avg       0.90      0.90      0.90      1544\n",
      "weighted avg       0.90      0.90      0.90      1544\n",
      "\n",
      "Test Dataset: \n",
      "\n",
      "Accuracy score on test data:  0.8957253886010362\n",
      "ROC AUC score: 0.8957431457431457\n"
     ]
    }
   ],
   "source": [
    "# Testing the model on the test dataset\n",
    "Y_pred = model.predict(X_test)\n",
    "print(classification_report(Y_test, Y_pred))\n",
    "print('Test Dataset:','\\n')\n",
    "print('Accuracy score on test data: ', accuracy_score(Y_test, Y_pred))\n",
    "print('ROC AUC score:', roc_auc_score(Y_test, Y_pred))"
   ]
  },
  {
   "cell_type": "code",
   "execution_count": 45,
   "id": "95806493",
   "metadata": {},
   "outputs": [
    {
     "name": "stdout",
     "output_type": "stream",
     "text": [
      "              precision    recall  f1-score   support\n",
      "\n",
      "           0       0.89      0.90      0.90       770\n",
      "           1       0.90      0.89      0.90       774\n",
      "\n",
      "    accuracy                           0.90      1544\n",
      "   macro avg       0.90      0.90      0.90      1544\n",
      "weighted avg       0.90      0.90      0.90      1544\n",
      "\n",
      "Full (Unsampled) Dataset: \n",
      "\n",
      "Accuracy score on unsampled data:  0.8957253886010362\n",
      "ROC AUC score: 0.8957431457431457\n"
     ]
    }
   ],
   "source": [
    "# Testing the model to full (unsampled) dataset\n",
    "Y_pred = model.predict(X_test)\n",
    "print(classification_report(Y_test, Y_pred))\n",
    "print('Full (Unsampled) Dataset:','\\n')\n",
    "print('Accuracy score on unsampled data: ', accuracy_score(Y_test, Y_pred))\n",
    "print('ROC AUC score:', roc_auc_score(Y_test, Y_pred))"
   ]
  },
  {
   "cell_type": "code",
   "execution_count": 46,
   "id": "0969b367",
   "metadata": {},
   "outputs": [],
   "source": [
    "import pickle \n",
    "pickle.dump(model,open('logistic_regression_model.sav','wb'))"
   ]
  },
  {
   "cell_type": "code",
   "execution_count": null,
   "id": "01a9f1b6",
   "metadata": {},
   "outputs": [],
   "source": []
  }
 ],
 "metadata": {
  "kernelspec": {
   "display_name": "Python 3",
   "language": "python",
   "name": "python3"
  },
  "language_info": {
   "codemirror_mode": {
    "name": "ipython",
    "version": 3
   },
   "file_extension": ".py",
   "mimetype": "text/x-python",
   "name": "python",
   "nbconvert_exporter": "python",
   "pygments_lexer": "ipython3",
   "version": "3.8.8"
  }
 },
 "nbformat": 4,
 "nbformat_minor": 5
}
